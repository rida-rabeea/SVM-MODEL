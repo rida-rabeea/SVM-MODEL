{
  "nbformat": 4,
  "nbformat_minor": 0,
  "metadata": {
    "colab": {
      "provenance": []
    },
    "kernelspec": {
      "name": "python3",
      "display_name": "Python 3"
    },
    "language_info": {
      "name": "python"
    }
  },
  "cells": [
    {
      "cell_type": "code",
      "execution_count": null,
      "metadata": {
        "id": "PhxHimUM1Gql"
      },
      "outputs": [],
      "source": [
        "import numpy as np\n",
        "import pandas as pd\n",
        "from sklearn.svm import SVC"
      ]
    },
    {
      "cell_type": "code",
      "source": [
        "train=pd.read_csv('sign_mnist_train.csv')\n",
        "test=pd.read_csv('sign_mnist_test.csv')"
      ],
      "metadata": {
        "id": "FFzUI-RX5bR9"
      },
      "execution_count": null,
      "outputs": []
    },
    {
      "cell_type": "code",
      "source": [
        "train.shape"
      ],
      "metadata": {
        "colab": {
          "base_uri": "https://localhost:8080/"
        },
        "id": "3DHuF_VoBn2g",
        "outputId": "f1c074e3-ebdd-48ec-bf9a-95e5f2a99a7f"
      },
      "execution_count": null,
      "outputs": [
        {
          "output_type": "execute_result",
          "data": {
            "text/plain": [
              "(4835, 785)"
            ]
          },
          "metadata": {},
          "execution_count": 3
        }
      ]
    },
    {
      "cell_type": "code",
      "source": [
        "test.shape"
      ],
      "metadata": {
        "colab": {
          "base_uri": "https://localhost:8080/"
        },
        "id": "CpnqnzDwBrJO",
        "outputId": "00425e59-0b93-469a-bebc-e28f4096db8d"
      },
      "execution_count": null,
      "outputs": [
        {
          "output_type": "execute_result",
          "data": {
            "text/plain": [
              "(3796, 785)"
            ]
          },
          "metadata": {},
          "execution_count": 4
        }
      ]
    },
    {
      "cell_type": "code",
      "source": [
        "#concatenate the datasets\n",
        "datasets=pd.concat([train,test])"
      ],
      "metadata": {
        "id": "FccD-xHe5pXN"
      },
      "execution_count": null,
      "outputs": []
    },
    {
      "cell_type": "code",
      "source": [
        "datasets.dropna(inplace=True)"
      ],
      "metadata": {
        "id": "PHhmkMBl6CZ6"
      },
      "execution_count": null,
      "outputs": []
    },
    {
      "cell_type": "code",
      "source": [
        "datasets.isna().sum()"
      ],
      "metadata": {
        "colab": {
          "base_uri": "https://localhost:8080/",
          "height": 458
        },
        "collapsed": true,
        "id": "6ctAmtx96EbG",
        "outputId": "90faa70a-de45-4906-9bb6-1523f5451cae"
      },
      "execution_count": null,
      "outputs": [
        {
          "output_type": "execute_result",
          "data": {
            "text/plain": [
              "label       0\n",
              "pixel1      0\n",
              "pixel2      0\n",
              "pixel3      0\n",
              "pixel4      0\n",
              "           ..\n",
              "pixel780    0\n",
              "pixel781    0\n",
              "pixel782    0\n",
              "pixel783    0\n",
              "pixel784    0\n",
              "Length: 785, dtype: int64"
            ],
            "text/html": [
              "<div>\n",
              "<style scoped>\n",
              "    .dataframe tbody tr th:only-of-type {\n",
              "        vertical-align: middle;\n",
              "    }\n",
              "\n",
              "    .dataframe tbody tr th {\n",
              "        vertical-align: top;\n",
              "    }\n",
              "\n",
              "    .dataframe thead th {\n",
              "        text-align: right;\n",
              "    }\n",
              "</style>\n",
              "<table border=\"1\" class=\"dataframe\">\n",
              "  <thead>\n",
              "    <tr style=\"text-align: right;\">\n",
              "      <th></th>\n",
              "      <th>0</th>\n",
              "    </tr>\n",
              "  </thead>\n",
              "  <tbody>\n",
              "    <tr>\n",
              "      <th>label</th>\n",
              "      <td>0</td>\n",
              "    </tr>\n",
              "    <tr>\n",
              "      <th>pixel1</th>\n",
              "      <td>0</td>\n",
              "    </tr>\n",
              "    <tr>\n",
              "      <th>pixel2</th>\n",
              "      <td>0</td>\n",
              "    </tr>\n",
              "    <tr>\n",
              "      <th>pixel3</th>\n",
              "      <td>0</td>\n",
              "    </tr>\n",
              "    <tr>\n",
              "      <th>pixel4</th>\n",
              "      <td>0</td>\n",
              "    </tr>\n",
              "    <tr>\n",
              "      <th>...</th>\n",
              "      <td>...</td>\n",
              "    </tr>\n",
              "    <tr>\n",
              "      <th>pixel780</th>\n",
              "      <td>0</td>\n",
              "    </tr>\n",
              "    <tr>\n",
              "      <th>pixel781</th>\n",
              "      <td>0</td>\n",
              "    </tr>\n",
              "    <tr>\n",
              "      <th>pixel782</th>\n",
              "      <td>0</td>\n",
              "    </tr>\n",
              "    <tr>\n",
              "      <th>pixel783</th>\n",
              "      <td>0</td>\n",
              "    </tr>\n",
              "    <tr>\n",
              "      <th>pixel784</th>\n",
              "      <td>0</td>\n",
              "    </tr>\n",
              "  </tbody>\n",
              "</table>\n",
              "<p>785 rows × 1 columns</p>\n",
              "</div><br><label><b>dtype:</b> int64</label>"
            ]
          },
          "metadata": {},
          "execution_count": 7
        }
      ]
    },
    {
      "cell_type": "code",
      "source": [
        "x=datasets.drop('label',axis=1).values\n",
        "y=datasets['label'].values"
      ],
      "metadata": {
        "id": "jZmzjF-T6GGF"
      },
      "execution_count": null,
      "outputs": []
    },
    {
      "cell_type": "code",
      "source": [
        "#train test split\n",
        "from sklearn.model_selection import train_test_split\n",
        "x_train, x_test, y_train, y_test = train_test_split(x,y,test_size=0.3,random_state=42)"
      ],
      "metadata": {
        "id": "mccN6yXR6Ixy"
      },
      "execution_count": null,
      "outputs": []
    },
    {
      "cell_type": "code",
      "source": [
        "x_train"
      ],
      "metadata": {
        "colab": {
          "base_uri": "https://localhost:8080/"
        },
        "id": "3PfVsQMG6Nw0",
        "outputId": "ebc10fcd-4602-46af-d666-d486c8f2826d"
      },
      "execution_count": null,
      "outputs": [
        {
          "output_type": "execute_result",
          "data": {
            "text/plain": [
              "array([[ 81.,  82.,  84., ..., 121., 110.,  99.],\n",
              "       [165., 167., 169., ..., 207., 207., 206.],\n",
              "       [181., 181., 182., ..., 194., 192., 191.],\n",
              "       ...,\n",
              "       [187., 187., 188., ..., 247., 245., 243.],\n",
              "       [193., 194., 195., ..., 121., 120., 117.],\n",
              "       [218., 219., 219., ..., 245., 245., 244.]])"
            ]
          },
          "metadata": {},
          "execution_count": 10
        }
      ]
    },
    {
      "cell_type": "code",
      "source": [
        "x_train = x_train/255.0\n",
        "x_test = x_test/255.0"
      ],
      "metadata": {
        "id": "tq7b9ag36RjX"
      },
      "execution_count": null,
      "outputs": []
    },
    {
      "cell_type": "code",
      "source": [
        "svm_model=SVC(kernel='rbf',C=1.0,gamma='scale')\n",
        "svm_model.fit(x_train, y_train)"
      ],
      "metadata": {
        "colab": {
          "base_uri": "https://localhost:8080/",
          "height": 80
        },
        "id": "SJiWgiux6Xp0",
        "outputId": "7918c9b7-f36f-4708-f74b-a197b6669523"
      },
      "execution_count": null,
      "outputs": [
        {
          "output_type": "execute_result",
          "data": {
            "text/plain": [
              "SVC()"
            ],
            "text/html": [
              "<style>#sk-container-id-1 {\n",
              "  /* Definition of color scheme common for light and dark mode */\n",
              "  --sklearn-color-text: #000;\n",
              "  --sklearn-color-text-muted: #666;\n",
              "  --sklearn-color-line: gray;\n",
              "  /* Definition of color scheme for unfitted estimators */\n",
              "  --sklearn-color-unfitted-level-0: #fff5e6;\n",
              "  --sklearn-color-unfitted-level-1: #f6e4d2;\n",
              "  --sklearn-color-unfitted-level-2: #ffe0b3;\n",
              "  --sklearn-color-unfitted-level-3: chocolate;\n",
              "  /* Definition of color scheme for fitted estimators */\n",
              "  --sklearn-color-fitted-level-0: #f0f8ff;\n",
              "  --sklearn-color-fitted-level-1: #d4ebff;\n",
              "  --sklearn-color-fitted-level-2: #b3dbfd;\n",
              "  --sklearn-color-fitted-level-3: cornflowerblue;\n",
              "\n",
              "  /* Specific color for light theme */\n",
              "  --sklearn-color-text-on-default-background: var(--sg-text-color, var(--theme-code-foreground, var(--jp-content-font-color1, black)));\n",
              "  --sklearn-color-background: var(--sg-background-color, var(--theme-background, var(--jp-layout-color0, white)));\n",
              "  --sklearn-color-border-box: var(--sg-text-color, var(--theme-code-foreground, var(--jp-content-font-color1, black)));\n",
              "  --sklearn-color-icon: #696969;\n",
              "\n",
              "  @media (prefers-color-scheme: dark) {\n",
              "    /* Redefinition of color scheme for dark theme */\n",
              "    --sklearn-color-text-on-default-background: var(--sg-text-color, var(--theme-code-foreground, var(--jp-content-font-color1, white)));\n",
              "    --sklearn-color-background: var(--sg-background-color, var(--theme-background, var(--jp-layout-color0, #111)));\n",
              "    --sklearn-color-border-box: var(--sg-text-color, var(--theme-code-foreground, var(--jp-content-font-color1, white)));\n",
              "    --sklearn-color-icon: #878787;\n",
              "  }\n",
              "}\n",
              "\n",
              "#sk-container-id-1 {\n",
              "  color: var(--sklearn-color-text);\n",
              "}\n",
              "\n",
              "#sk-container-id-1 pre {\n",
              "  padding: 0;\n",
              "}\n",
              "\n",
              "#sk-container-id-1 input.sk-hidden--visually {\n",
              "  border: 0;\n",
              "  clip: rect(1px 1px 1px 1px);\n",
              "  clip: rect(1px, 1px, 1px, 1px);\n",
              "  height: 1px;\n",
              "  margin: -1px;\n",
              "  overflow: hidden;\n",
              "  padding: 0;\n",
              "  position: absolute;\n",
              "  width: 1px;\n",
              "}\n",
              "\n",
              "#sk-container-id-1 div.sk-dashed-wrapped {\n",
              "  border: 1px dashed var(--sklearn-color-line);\n",
              "  margin: 0 0.4em 0.5em 0.4em;\n",
              "  box-sizing: border-box;\n",
              "  padding-bottom: 0.4em;\n",
              "  background-color: var(--sklearn-color-background);\n",
              "}\n",
              "\n",
              "#sk-container-id-1 div.sk-container {\n",
              "  /* jupyter's `normalize.less` sets `[hidden] { display: none; }`\n",
              "     but bootstrap.min.css set `[hidden] { display: none !important; }`\n",
              "     so we also need the `!important` here to be able to override the\n",
              "     default hidden behavior on the sphinx rendered scikit-learn.org.\n",
              "     See: https://github.com/scikit-learn/scikit-learn/issues/21755 */\n",
              "  display: inline-block !important;\n",
              "  position: relative;\n",
              "}\n",
              "\n",
              "#sk-container-id-1 div.sk-text-repr-fallback {\n",
              "  display: none;\n",
              "}\n",
              "\n",
              "div.sk-parallel-item,\n",
              "div.sk-serial,\n",
              "div.sk-item {\n",
              "  /* draw centered vertical line to link estimators */\n",
              "  background-image: linear-gradient(var(--sklearn-color-text-on-default-background), var(--sklearn-color-text-on-default-background));\n",
              "  background-size: 2px 100%;\n",
              "  background-repeat: no-repeat;\n",
              "  background-position: center center;\n",
              "}\n",
              "\n",
              "/* Parallel-specific style estimator block */\n",
              "\n",
              "#sk-container-id-1 div.sk-parallel-item::after {\n",
              "  content: \"\";\n",
              "  width: 100%;\n",
              "  border-bottom: 2px solid var(--sklearn-color-text-on-default-background);\n",
              "  flex-grow: 1;\n",
              "}\n",
              "\n",
              "#sk-container-id-1 div.sk-parallel {\n",
              "  display: flex;\n",
              "  align-items: stretch;\n",
              "  justify-content: center;\n",
              "  background-color: var(--sklearn-color-background);\n",
              "  position: relative;\n",
              "}\n",
              "\n",
              "#sk-container-id-1 div.sk-parallel-item {\n",
              "  display: flex;\n",
              "  flex-direction: column;\n",
              "}\n",
              "\n",
              "#sk-container-id-1 div.sk-parallel-item:first-child::after {\n",
              "  align-self: flex-end;\n",
              "  width: 50%;\n",
              "}\n",
              "\n",
              "#sk-container-id-1 div.sk-parallel-item:last-child::after {\n",
              "  align-self: flex-start;\n",
              "  width: 50%;\n",
              "}\n",
              "\n",
              "#sk-container-id-1 div.sk-parallel-item:only-child::after {\n",
              "  width: 0;\n",
              "}\n",
              "\n",
              "/* Serial-specific style estimator block */\n",
              "\n",
              "#sk-container-id-1 div.sk-serial {\n",
              "  display: flex;\n",
              "  flex-direction: column;\n",
              "  align-items: center;\n",
              "  background-color: var(--sklearn-color-background);\n",
              "  padding-right: 1em;\n",
              "  padding-left: 1em;\n",
              "}\n",
              "\n",
              "\n",
              "/* Toggleable style: style used for estimator/Pipeline/ColumnTransformer box that is\n",
              "clickable and can be expanded/collapsed.\n",
              "- Pipeline and ColumnTransformer use this feature and define the default style\n",
              "- Estimators will overwrite some part of the style using the `sk-estimator` class\n",
              "*/\n",
              "\n",
              "/* Pipeline and ColumnTransformer style (default) */\n",
              "\n",
              "#sk-container-id-1 div.sk-toggleable {\n",
              "  /* Default theme specific background. It is overwritten whether we have a\n",
              "  specific estimator or a Pipeline/ColumnTransformer */\n",
              "  background-color: var(--sklearn-color-background);\n",
              "}\n",
              "\n",
              "/* Toggleable label */\n",
              "#sk-container-id-1 label.sk-toggleable__label {\n",
              "  cursor: pointer;\n",
              "  display: flex;\n",
              "  width: 100%;\n",
              "  margin-bottom: 0;\n",
              "  padding: 0.5em;\n",
              "  box-sizing: border-box;\n",
              "  text-align: center;\n",
              "  align-items: start;\n",
              "  justify-content: space-between;\n",
              "  gap: 0.5em;\n",
              "}\n",
              "\n",
              "#sk-container-id-1 label.sk-toggleable__label .caption {\n",
              "  font-size: 0.6rem;\n",
              "  font-weight: lighter;\n",
              "  color: var(--sklearn-color-text-muted);\n",
              "}\n",
              "\n",
              "#sk-container-id-1 label.sk-toggleable__label-arrow:before {\n",
              "  /* Arrow on the left of the label */\n",
              "  content: \"▸\";\n",
              "  float: left;\n",
              "  margin-right: 0.25em;\n",
              "  color: var(--sklearn-color-icon);\n",
              "}\n",
              "\n",
              "#sk-container-id-1 label.sk-toggleable__label-arrow:hover:before {\n",
              "  color: var(--sklearn-color-text);\n",
              "}\n",
              "\n",
              "/* Toggleable content - dropdown */\n",
              "\n",
              "#sk-container-id-1 div.sk-toggleable__content {\n",
              "  max-height: 0;\n",
              "  max-width: 0;\n",
              "  overflow: hidden;\n",
              "  text-align: left;\n",
              "  /* unfitted */\n",
              "  background-color: var(--sklearn-color-unfitted-level-0);\n",
              "}\n",
              "\n",
              "#sk-container-id-1 div.sk-toggleable__content.fitted {\n",
              "  /* fitted */\n",
              "  background-color: var(--sklearn-color-fitted-level-0);\n",
              "}\n",
              "\n",
              "#sk-container-id-1 div.sk-toggleable__content pre {\n",
              "  margin: 0.2em;\n",
              "  border-radius: 0.25em;\n",
              "  color: var(--sklearn-color-text);\n",
              "  /* unfitted */\n",
              "  background-color: var(--sklearn-color-unfitted-level-0);\n",
              "}\n",
              "\n",
              "#sk-container-id-1 div.sk-toggleable__content.fitted pre {\n",
              "  /* unfitted */\n",
              "  background-color: var(--sklearn-color-fitted-level-0);\n",
              "}\n",
              "\n",
              "#sk-container-id-1 input.sk-toggleable__control:checked~div.sk-toggleable__content {\n",
              "  /* Expand drop-down */\n",
              "  max-height: 200px;\n",
              "  max-width: 100%;\n",
              "  overflow: auto;\n",
              "}\n",
              "\n",
              "#sk-container-id-1 input.sk-toggleable__control:checked~label.sk-toggleable__label-arrow:before {\n",
              "  content: \"▾\";\n",
              "}\n",
              "\n",
              "/* Pipeline/ColumnTransformer-specific style */\n",
              "\n",
              "#sk-container-id-1 div.sk-label input.sk-toggleable__control:checked~label.sk-toggleable__label {\n",
              "  color: var(--sklearn-color-text);\n",
              "  background-color: var(--sklearn-color-unfitted-level-2);\n",
              "}\n",
              "\n",
              "#sk-container-id-1 div.sk-label.fitted input.sk-toggleable__control:checked~label.sk-toggleable__label {\n",
              "  background-color: var(--sklearn-color-fitted-level-2);\n",
              "}\n",
              "\n",
              "/* Estimator-specific style */\n",
              "\n",
              "/* Colorize estimator box */\n",
              "#sk-container-id-1 div.sk-estimator input.sk-toggleable__control:checked~label.sk-toggleable__label {\n",
              "  /* unfitted */\n",
              "  background-color: var(--sklearn-color-unfitted-level-2);\n",
              "}\n",
              "\n",
              "#sk-container-id-1 div.sk-estimator.fitted input.sk-toggleable__control:checked~label.sk-toggleable__label {\n",
              "  /* fitted */\n",
              "  background-color: var(--sklearn-color-fitted-level-2);\n",
              "}\n",
              "\n",
              "#sk-container-id-1 div.sk-label label.sk-toggleable__label,\n",
              "#sk-container-id-1 div.sk-label label {\n",
              "  /* The background is the default theme color */\n",
              "  color: var(--sklearn-color-text-on-default-background);\n",
              "}\n",
              "\n",
              "/* On hover, darken the color of the background */\n",
              "#sk-container-id-1 div.sk-label:hover label.sk-toggleable__label {\n",
              "  color: var(--sklearn-color-text);\n",
              "  background-color: var(--sklearn-color-unfitted-level-2);\n",
              "}\n",
              "\n",
              "/* Label box, darken color on hover, fitted */\n",
              "#sk-container-id-1 div.sk-label.fitted:hover label.sk-toggleable__label.fitted {\n",
              "  color: var(--sklearn-color-text);\n",
              "  background-color: var(--sklearn-color-fitted-level-2);\n",
              "}\n",
              "\n",
              "/* Estimator label */\n",
              "\n",
              "#sk-container-id-1 div.sk-label label {\n",
              "  font-family: monospace;\n",
              "  font-weight: bold;\n",
              "  display: inline-block;\n",
              "  line-height: 1.2em;\n",
              "}\n",
              "\n",
              "#sk-container-id-1 div.sk-label-container {\n",
              "  text-align: center;\n",
              "}\n",
              "\n",
              "/* Estimator-specific */\n",
              "#sk-container-id-1 div.sk-estimator {\n",
              "  font-family: monospace;\n",
              "  border: 1px dotted var(--sklearn-color-border-box);\n",
              "  border-radius: 0.25em;\n",
              "  box-sizing: border-box;\n",
              "  margin-bottom: 0.5em;\n",
              "  /* unfitted */\n",
              "  background-color: var(--sklearn-color-unfitted-level-0);\n",
              "}\n",
              "\n",
              "#sk-container-id-1 div.sk-estimator.fitted {\n",
              "  /* fitted */\n",
              "  background-color: var(--sklearn-color-fitted-level-0);\n",
              "}\n",
              "\n",
              "/* on hover */\n",
              "#sk-container-id-1 div.sk-estimator:hover {\n",
              "  /* unfitted */\n",
              "  background-color: var(--sklearn-color-unfitted-level-2);\n",
              "}\n",
              "\n",
              "#sk-container-id-1 div.sk-estimator.fitted:hover {\n",
              "  /* fitted */\n",
              "  background-color: var(--sklearn-color-fitted-level-2);\n",
              "}\n",
              "\n",
              "/* Specification for estimator info (e.g. \"i\" and \"?\") */\n",
              "\n",
              "/* Common style for \"i\" and \"?\" */\n",
              "\n",
              ".sk-estimator-doc-link,\n",
              "a:link.sk-estimator-doc-link,\n",
              "a:visited.sk-estimator-doc-link {\n",
              "  float: right;\n",
              "  font-size: smaller;\n",
              "  line-height: 1em;\n",
              "  font-family: monospace;\n",
              "  background-color: var(--sklearn-color-background);\n",
              "  border-radius: 1em;\n",
              "  height: 1em;\n",
              "  width: 1em;\n",
              "  text-decoration: none !important;\n",
              "  margin-left: 0.5em;\n",
              "  text-align: center;\n",
              "  /* unfitted */\n",
              "  border: var(--sklearn-color-unfitted-level-1) 1pt solid;\n",
              "  color: var(--sklearn-color-unfitted-level-1);\n",
              "}\n",
              "\n",
              ".sk-estimator-doc-link.fitted,\n",
              "a:link.sk-estimator-doc-link.fitted,\n",
              "a:visited.sk-estimator-doc-link.fitted {\n",
              "  /* fitted */\n",
              "  border: var(--sklearn-color-fitted-level-1) 1pt solid;\n",
              "  color: var(--sklearn-color-fitted-level-1);\n",
              "}\n",
              "\n",
              "/* On hover */\n",
              "div.sk-estimator:hover .sk-estimator-doc-link:hover,\n",
              ".sk-estimator-doc-link:hover,\n",
              "div.sk-label-container:hover .sk-estimator-doc-link:hover,\n",
              ".sk-estimator-doc-link:hover {\n",
              "  /* unfitted */\n",
              "  background-color: var(--sklearn-color-unfitted-level-3);\n",
              "  color: var(--sklearn-color-background);\n",
              "  text-decoration: none;\n",
              "}\n",
              "\n",
              "div.sk-estimator.fitted:hover .sk-estimator-doc-link.fitted:hover,\n",
              ".sk-estimator-doc-link.fitted:hover,\n",
              "div.sk-label-container:hover .sk-estimator-doc-link.fitted:hover,\n",
              ".sk-estimator-doc-link.fitted:hover {\n",
              "  /* fitted */\n",
              "  background-color: var(--sklearn-color-fitted-level-3);\n",
              "  color: var(--sklearn-color-background);\n",
              "  text-decoration: none;\n",
              "}\n",
              "\n",
              "/* Span, style for the box shown on hovering the info icon */\n",
              ".sk-estimator-doc-link span {\n",
              "  display: none;\n",
              "  z-index: 9999;\n",
              "  position: relative;\n",
              "  font-weight: normal;\n",
              "  right: .2ex;\n",
              "  padding: .5ex;\n",
              "  margin: .5ex;\n",
              "  width: min-content;\n",
              "  min-width: 20ex;\n",
              "  max-width: 50ex;\n",
              "  color: var(--sklearn-color-text);\n",
              "  box-shadow: 2pt 2pt 4pt #999;\n",
              "  /* unfitted */\n",
              "  background: var(--sklearn-color-unfitted-level-0);\n",
              "  border: .5pt solid var(--sklearn-color-unfitted-level-3);\n",
              "}\n",
              "\n",
              ".sk-estimator-doc-link.fitted span {\n",
              "  /* fitted */\n",
              "  background: var(--sklearn-color-fitted-level-0);\n",
              "  border: var(--sklearn-color-fitted-level-3);\n",
              "}\n",
              "\n",
              ".sk-estimator-doc-link:hover span {\n",
              "  display: block;\n",
              "}\n",
              "\n",
              "/* \"?\"-specific style due to the `<a>` HTML tag */\n",
              "\n",
              "#sk-container-id-1 a.estimator_doc_link {\n",
              "  float: right;\n",
              "  font-size: 1rem;\n",
              "  line-height: 1em;\n",
              "  font-family: monospace;\n",
              "  background-color: var(--sklearn-color-background);\n",
              "  border-radius: 1rem;\n",
              "  height: 1rem;\n",
              "  width: 1rem;\n",
              "  text-decoration: none;\n",
              "  /* unfitted */\n",
              "  color: var(--sklearn-color-unfitted-level-1);\n",
              "  border: var(--sklearn-color-unfitted-level-1) 1pt solid;\n",
              "}\n",
              "\n",
              "#sk-container-id-1 a.estimator_doc_link.fitted {\n",
              "  /* fitted */\n",
              "  border: var(--sklearn-color-fitted-level-1) 1pt solid;\n",
              "  color: var(--sklearn-color-fitted-level-1);\n",
              "}\n",
              "\n",
              "/* On hover */\n",
              "#sk-container-id-1 a.estimator_doc_link:hover {\n",
              "  /* unfitted */\n",
              "  background-color: var(--sklearn-color-unfitted-level-3);\n",
              "  color: var(--sklearn-color-background);\n",
              "  text-decoration: none;\n",
              "}\n",
              "\n",
              "#sk-container-id-1 a.estimator_doc_link.fitted:hover {\n",
              "  /* fitted */\n",
              "  background-color: var(--sklearn-color-fitted-level-3);\n",
              "}\n",
              "</style><div id=\"sk-container-id-1\" class=\"sk-top-container\"><div class=\"sk-text-repr-fallback\"><pre>SVC()</pre><b>In a Jupyter environment, please rerun this cell to show the HTML representation or trust the notebook. <br />On GitHub, the HTML representation is unable to render, please try loading this page with nbviewer.org.</b></div><div class=\"sk-container\" hidden><div class=\"sk-item\"><div class=\"sk-estimator fitted sk-toggleable\"><input class=\"sk-toggleable__control sk-hidden--visually\" id=\"sk-estimator-id-1\" type=\"checkbox\" checked><label for=\"sk-estimator-id-1\" class=\"sk-toggleable__label fitted sk-toggleable__label-arrow\"><div><div>SVC</div></div><div><a class=\"sk-estimator-doc-link fitted\" rel=\"noreferrer\" target=\"_blank\" href=\"https://scikit-learn.org/1.6/modules/generated/sklearn.svm.SVC.html\">?<span>Documentation for SVC</span></a><span class=\"sk-estimator-doc-link fitted\">i<span>Fitted</span></span></div></label><div class=\"sk-toggleable__content fitted\"><pre>SVC()</pre></div> </div></div></div></div>"
            ]
          },
          "metadata": {},
          "execution_count": 12
        }
      ]
    },
    {
      "cell_type": "code",
      "source": [
        "from sklearn.metrics import accuracy_score\n",
        "print(\"Training accuracy\",accuracy_score(y_train, svm_model.predict(x_train)))"
      ],
      "metadata": {
        "colab": {
          "base_uri": "https://localhost:8080/"
        },
        "id": "CTrYU7s76xpq",
        "outputId": "ca10a47e-6c20-434b-b791-886a8a253ce6"
      },
      "execution_count": null,
      "outputs": [
        {
          "output_type": "stream",
          "name": "stdout",
          "text": [
            "Training accuracy 0.9872516556291391\n"
          ]
        }
      ]
    },
    {
      "cell_type": "code",
      "source": [
        "print(\"Training accuracy\",accuracy_score(y_test, svm_model.predict(x_test)))"
      ],
      "metadata": {
        "colab": {
          "base_uri": "https://localhost:8080/"
        },
        "id": "4pxSyNUx7ZTo",
        "outputId": "de6e59ae-fccd-42a1-ca3f-6335901efa0e"
      },
      "execution_count": null,
      "outputs": [
        {
          "output_type": "stream",
          "name": "stdout",
          "text": [
            "Training accuracy 0.9606025492468134\n"
          ]
        }
      ]
    },
    {
      "cell_type": "code",
      "source": [
        "#predicting for a new random instance\n",
        "\n",
        "import cv2\n",
        "from google.colab.patches import cv2_imshow\n",
        "!pip install gTTS\n",
        "\n",
        "\n",
        "\n",
        "\n",
        "\n"
      ],
      "metadata": {
        "colab": {
          "base_uri": "https://localhost:8080/"
        },
        "id": "qkGZZDEb77_w",
        "outputId": "5bcab0b2-9871-4617-bf6f-3e0cb15a4dad",
        "collapsed": true
      },
      "execution_count": null,
      "outputs": [
        {
          "output_type": "stream",
          "name": "stdout",
          "text": [
            "Collecting gTTS\n",
            "  Downloading gTTS-2.5.4-py3-none-any.whl.metadata (4.1 kB)\n",
            "Requirement already satisfied: requests<3,>=2.27 in /usr/local/lib/python3.10/dist-packages (from gTTS) (2.32.3)\n",
            "Requirement already satisfied: click<8.2,>=7.1 in /usr/local/lib/python3.10/dist-packages (from gTTS) (8.1.7)\n",
            "Requirement already satisfied: charset-normalizer<4,>=2 in /usr/local/lib/python3.10/dist-packages (from requests<3,>=2.27->gTTS) (3.4.0)\n",
            "Requirement already satisfied: idna<4,>=2.5 in /usr/local/lib/python3.10/dist-packages (from requests<3,>=2.27->gTTS) (3.10)\n",
            "Requirement already satisfied: urllib3<3,>=1.21.1 in /usr/local/lib/python3.10/dist-packages (from requests<3,>=2.27->gTTS) (2.2.3)\n",
            "Requirement already satisfied: certifi>=2017.4.17 in /usr/local/lib/python3.10/dist-packages (from requests<3,>=2.27->gTTS) (2024.12.14)\n",
            "Downloading gTTS-2.5.4-py3-none-any.whl (29 kB)\n",
            "Installing collected packages: gTTS\n",
            "Successfully installed gTTS-2.5.4\n"
          ]
        }
      ]
    },
    {
      "cell_type": "code",
      "source": [
        "image = cv2.imread('C.png', cv2.IMREAD_GRAYSCALE)"
      ],
      "metadata": {
        "id": "eE-edoM0PId0"
      },
      "execution_count": null,
      "outputs": []
    },
    {
      "cell_type": "code",
      "source": [
        "image_resized = cv2.resize(image, (28, 28))\n",
        "\n",
        "image_flattened = image_resized.flatten().reshape(1, -1)\n",
        "image_flattened = image_flattened / 255.0\n",
        "\n",
        "\n",
        "prediction = svm_model.predict(image_flattened)\n",
        "\n",
        "\n",
        "label_mapping = {\n",
        "    0: 'A', 1: 'B', 2: 'C', 3: 'D', 4: 'E', 5: 'F', 6: 'G', 7: 'H',\n",
        "    8: 'I', 9: 'J', 10: 'K', 11: 'L', 12: 'M', 13: 'N', 14: 'O',\n",
        "    15: 'P', 16: 'Q', 17: 'R', 18: 'S', 19: 'T', 20: 'U', 21: 'V',\n",
        "    22: 'W', 23: 'X', 24:'Y', 25:'Z'\n",
        "}\n",
        "\n",
        "predicted_label = label_mapping.get(prediction[0], \"Unknown\")\n",
        "print(f\"The model predicts the hand sign for: {predicted_label}\")\n",
        "\n",
        "from gtts import gTTS\n",
        "from IPython.display import Audio\n",
        "\n",
        "# Generate audio\n",
        "tts = gTTS(text=f\"The predicted hand sign is {predicted_label}\", lang='en')\n",
        "tts.save(\"output.mp3\")\n",
        "\n",
        "# Play audio in Colab\n",
        "Audio(\"output.mp3\", autoplay=True)"
      ],
      "metadata": {
        "colab": {
          "base_uri": "https://localhost:8080/",
          "height": 92
        },
        "id": "5FBf0IZoPQ3d",
        "outputId": "469ca0fa-1de6-481e-ba6e-358f5a49e7fa"
      },
      "execution_count": null,
      "outputs": [
        {
          "output_type": "stream",
          "name": "stdout",
          "text": [
            "The model predicts the hand sign for: C\n"
          ]
        },
        {
          "output_type": "execute_result",
          "data": {
            "text/plain": [
              "<IPython.lib.display.Audio object>"
            ],
            "text/html": [
              "\n",
              "                <audio  controls=\"controls\" autoplay=\"autoplay\">\n",
              "                    <source src=\"data:audio/mpeg;base64,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\" type=\"audio/mpeg\" />\n",
              "                    Your browser does not support the audio element.\n",
              "                </audio>\n",
              "              "
            ]
          },
          "metadata": {},
          "execution_count": 19
        }
      ]
    },
    {
      "cell_type": "code",
      "source": [
        "import pickle"
      ],
      "metadata": {
        "id": "K0wd5ElQ3Mgr"
      },
      "execution_count": null,
      "outputs": []
    },
    {
      "cell_type": "code",
      "source": [
        "with open('svm_model.pkl','wb') as f:\n",
        "  pickle.dump(svm_model, f)\n",
        "\n",
        "print(\"Model saved successfully!\")"
      ],
      "metadata": {
        "colab": {
          "base_uri": "https://localhost:8080/"
        },
        "id": "Aexr7m713Nms",
        "outputId": "6847b659-8727-4e03-c664-66f8ca595b1e"
      },
      "execution_count": null,
      "outputs": [
        {
          "output_type": "stream",
          "name": "stdout",
          "text": [
            "Model saved successfully!\n"
          ]
        }
      ]
    },
    {
      "cell_type": "code",
      "source": [
        "from google.colab import files\n",
        "files.download('svm_model.pkl')"
      ],
      "metadata": {
        "colab": {
          "base_uri": "https://localhost:8080/",
          "height": 34
        },
        "id": "KuDnJKCX3hOJ",
        "outputId": "04fa18cf-3607-49fc-b3f2-7ae0a28698e7"
      },
      "execution_count": null,
      "outputs": [
        {
          "output_type": "display_data",
          "data": {
            "text/plain": [
              "<IPython.core.display.Javascript object>"
            ],
            "application/javascript": [
              "\n",
              "    async function download(id, filename, size) {\n",
              "      if (!google.colab.kernel.accessAllowed) {\n",
              "        return;\n",
              "      }\n",
              "      const div = document.createElement('div');\n",
              "      const label = document.createElement('label');\n",
              "      label.textContent = `Downloading \"${filename}\": `;\n",
              "      div.appendChild(label);\n",
              "      const progress = document.createElement('progress');\n",
              "      progress.max = size;\n",
              "      div.appendChild(progress);\n",
              "      document.body.appendChild(div);\n",
              "\n",
              "      const buffers = [];\n",
              "      let downloaded = 0;\n",
              "\n",
              "      const channel = await google.colab.kernel.comms.open(id);\n",
              "      // Send a message to notify the kernel that we're ready.\n",
              "      channel.send({})\n",
              "\n",
              "      for await (const message of channel.messages) {\n",
              "        // Send a message to notify the kernel that we're ready.\n",
              "        channel.send({})\n",
              "        if (message.buffers) {\n",
              "          for (const buffer of message.buffers) {\n",
              "            buffers.push(buffer);\n",
              "            downloaded += buffer.byteLength;\n",
              "            progress.value = downloaded;\n",
              "          }\n",
              "        }\n",
              "      }\n",
              "      const blob = new Blob(buffers, {type: 'application/binary'});\n",
              "      const a = document.createElement('a');\n",
              "      a.href = window.URL.createObjectURL(blob);\n",
              "      a.download = filename;\n",
              "      div.appendChild(a);\n",
              "      a.click();\n",
              "      div.remove();\n",
              "    }\n",
              "  "
            ]
          },
          "metadata": {}
        },
        {
          "output_type": "display_data",
          "data": {
            "text/plain": [
              "<IPython.core.display.Javascript object>"
            ],
            "application/javascript": [
              "download(\"download_a028b9de-9cac-4868-8fe6-847b1f598e34\", \"svm_model.pkl\", 27933750)"
            ]
          },
          "metadata": {}
        }
      ]
    }
  ]
}